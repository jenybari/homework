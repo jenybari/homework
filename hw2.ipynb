{
 "cells": [
  {
   "cell_type": "code",
   "execution_count": 1,
   "metadata": {},
   "outputs": [
    {
     "name": "stdout",
     "output_type": "stream",
     "text": [
      "es\n"
     ]
    }
   ],
   "source": [
    "word = 'test'\n",
    "s = len(word)\n",
    "ctr = s / 2\n",
    "if s % 2 == 0:\n",
    "    print(word[int(ctr)-1:int(ctr)+1])\n",
    "elif s % 2 !=0:\n",
    "    print(word[int(ctr)])\n",
    "\n",
    "#word = ‘testing’"
   ]
  },
  {
   "cell_type": "code",
   "execution_count": 2,
   "metadata": {},
   "outputs": [
    {
     "name": "stdout",
     "output_type": "stream",
     "text": [
      "t\n"
     ]
    }
   ],
   "source": [
    "word = 'testing'\n",
    "s = len(word)\n",
    "ctr = s / 2\n",
    "if s % 2 == 0:\n",
    "    print(word[int(ctr)-1:int(ctr)+1])\n",
    "elif s % 2 !=0:\n",
    "    print(word[int(ctr)])"
   ]
  },
  {
   "cell_type": "code",
   "execution_count": 20,
   "metadata": {},
   "outputs": [
    {
     "name": "stdout",
     "output_type": "stream",
     "text": [
      "Введите число: 10\n",
      "Введите число: 20\n",
      "Введите число: 30\n",
      "Введите число: 0\n",
      "Ввод остановлен. Результат:  60\n"
     ]
    }
   ],
   "source": [
    "x = int(input('Введите число: '))\n",
    "sum = 0\n",
    "while x != 0:\n",
    "    sum += x\n",
    "    x = int(input('Введите число: '))\n",
    "print('Ввод остановлен. Результат: ', sum)"
   ]
  },
  {
   "cell_type": "code",
   "execution_count": 4,
   "metadata": {},
   "outputs": [
    {
     "name": "stdout",
     "output_type": "stream",
     "text": [
      "Идеальные пары \n",
      " Alex   Emma \n",
      " Arthur   Kate \n",
      " John   Kira \n",
      " Peter   Liza \n",
      " Richard   Trisha\n"
     ]
    }
   ],
   "source": [
    "boys = ['Peter', 'Alex', 'John', 'Arthur', 'Richard']\n",
    "girls = ['Kate', 'Liza', 'Kira', 'Emma', 'Trisha']\n",
    "len(boys)\n",
    "len(girls)\n",
    "sorted(boys)\n",
    "sorted(girls)\n",
    "if len(girls) == len(boys):\n",
    "    print('Идеальные пары', '\\n' , sorted(boys)[0], ' ', sorted(girls)[0], '\\n' ,sorted(boys)[1], ' ', sorted(girls)[1], '\\n' ,sorted(boys)[2], ' ', sorted(girls)[2],'\\n' , sorted(boys)[3], ' ', sorted(girls)[3],'\\n' , sorted(boys)[4], ' ', sorted(girls)[4])\n",
    "    \n",
    "else:\n",
    "    print('Внимание, кто-то может остаться без пары!')"
   ]
  },
  {
   "cell_type": "code",
   "execution_count": 3,
   "metadata": {},
   "outputs": [
    {
     "name": "stdout",
     "output_type": "stream",
     "text": [
      "Внимание, кто-то может остаться без пары!\n"
     ]
    }
   ],
   "source": [
    "boys = ['Peter', 'Alex', 'John', 'Arthur', 'Richard','Michael']\n",
    "girls = ['Kate', 'Liza', 'Kira', 'Emma', 'Trisha']\n",
    "len(boys)\n",
    "len(girls)\n",
    "sorted(boys)\n",
    "sorted(girls)\n",
    "if len(girls) == len(boys):\n",
    "    print('Идеальные пары', '\\n' , sorted(boys)[0], ' ', sorted(girls)[0], '\\n' ,sorted(boys)[1], ' ', sorted(girls)[1], '\\n' ,sorted(boys)[2], ' ', sorted(girls)[2],'\\n' , sorted(boys)[3], ' ', sorted(girls)[3],'\\n' , sorted(boys)[4], ' ', sorted(girls)[4])\n",
    "    \n",
    "else:\n",
    "    print('Внимание, кто-то может остаться без пары!')"
   ]
  },
  {
   "cell_type": "code",
   "execution_count": 5,
   "metadata": {},
   "outputs": [
    {
     "name": "stdout",
     "output_type": "stream",
     "text": [
      "Thailand - 23.9 C\n",
      "Germany - 13.8 C\n",
      "Russia - 3.7 C\n",
      "Poland - 12.0 C\n"
     ]
    }
   ],
   "source": [
    "countries_temperature = [\n",
    "['Thailand', [75.2, 77, 78.8, 73.4, 68, 75.2, 77]],\n",
    "['Germany', [57.2, 55.4, 59, 59, 53.6]],\n",
    "['Russia', [35.6, 37.4, 39.2, 41, 42.8, 39.2, 35.6]],\n",
    "['Poland', [50, 50, 53.6, 57.2, 55.4, 55.4]]\n",
    "]\n",
    "for i in countries_temperature:\n",
    "    print(i[0], '-', round((sum(i[1]) / len(i[1]) - 32) / 1.8, 1), 'C')"
   ]
  },
  {
   "cell_type": "code",
   "execution_count": null,
   "metadata": {},
   "outputs": [],
   "source": []
  }
 ],
 "metadata": {
  "kernelspec": {
   "display_name": "Python 3",
   "language": "python",
   "name": "python3"
  },
  "language_info": {
   "codemirror_mode": {
    "name": "ipython",
    "version": 3
   },
   "file_extension": ".py",
   "mimetype": "text/x-python",
   "name": "python",
   "nbconvert_exporter": "python",
   "pygments_lexer": "ipython3",
   "version": "3.8.5"
  }
 },
 "nbformat": 4,
 "nbformat_minor": 4
}
