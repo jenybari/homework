{
 "cells": [
  {
   "cell_type": "code",
   "execution_count": 5,
   "metadata": {},
   "outputs": [
    {
     "name": "stdout",
     "output_type": "stream",
     "text": [
      "es\n"
     ]
    }
   ],
   "source": [
    "word = 'test'\n",
    "sum = len(word)\n",
    "ctr = sum / 2\n",
    "if sum % 2 == 0:\n",
    "    print(word[int(ctr)-1:int(ctr)+1])\n",
    "elif sum % 2 !=0:\n",
    "    print(word[int(ctr)])\n",
    "\n",
    "#word = ‘testing’"
   ]
  },
  {
   "cell_type": "code",
   "execution_count": 6,
   "metadata": {},
   "outputs": [
    {
     "name": "stdout",
     "output_type": "stream",
     "text": [
      "t\n"
     ]
    }
   ],
   "source": [
    "word = 'testing'\n",
    "sum = len(word)\n",
    "ctr = sum / 2\n",
    "if sum % 2 == 0:\n",
    "    print(word[int(ctr)-1:int(ctr)+1])\n",
    "elif sum % 2 !=0:\n",
    "    print(word[int(ctr)])"
   ]
  },
  {
   "cell_type": "code",
   "execution_count": 20,
   "metadata": {},
   "outputs": [
    {
     "name": "stdout",
     "output_type": "stream",
     "text": [
      "Введите число: 10\n",
      "Введите число: 20\n",
      "Введите число: 30\n",
      "Введите число: 0\n",
      "Ввод остановлен. Результат:  60\n"
     ]
    }
   ],
   "source": [
    "x = int(input('Введите число: '))\n",
    "sum = 0\n",
    "while x != 0:\n",
    "    sum += x\n",
    "    x = int(input('Введите число: '))\n",
    "print('Ввод остановлен. Результат: ', sum)"
   ]
  },
  {
   "cell_type": "code",
   "execution_count": 124,
   "metadata": {},
   "outputs": [
    {
     "name": "stdout",
     "output_type": "stream",
     "text": [
      "Идеальные пары \n",
      " [('Alex', 'Emma'), ('Arthur', 'Kate'), ('John', 'Kira'), ('Peter', 'Liza'), ('Richard', 'Trisha')]\n"
     ]
    }
   ],
   "source": [
    "boys = ['Peter', 'Alex', 'John', 'Arthur', 'Richard']\n",
    "girls = ['Kate', 'Liza', 'Kira', 'Emma', 'Trisha']\n",
    "len(boys)\n",
    "len(girls)\n",
    "sorted(boys)\n",
    "sorted(girls)\n",
    "if len(girls) == len(boys):\n",
    "    couple = zip(sorted(boys), sorted(girls))\n",
    "    print('Идеальные пары', '\\n' , list(couple))\n",
    "else:\n",
    "    print('Внимание, кто-то может остаться без пары!')"
   ]
  },
  {
   "cell_type": "code",
   "execution_count": 97,
   "metadata": {},
   "outputs": [
    {
     "name": "stdout",
     "output_type": "stream",
     "text": [
      "Внимание, кто-то может остаться без пары!\n"
     ]
    }
   ],
   "source": [
    "boys = ['Peter', 'Alex', 'John', 'Arthur', 'Richard','Michael']\n",
    "girls = ['Kate', 'Liza', 'Kira', 'Emma', 'Trisha']\n",
    "len(boys)\n",
    "len(girls)\n",
    "sorted(boys)\n",
    "sorted(girls)\n",
    "if len(girls) == len(boys):\n",
    "    couple = zip(sorted(boys), sorted(girls))\n",
    "    print('Идеальные пары', list(couple))\n",
    "else:\n",
    "    print('Внимание, кто-то может остаться без пары!')"
   ]
  },
  {
   "cell_type": "code",
   "execution_count": 3,
   "metadata": {},
   "outputs": [
    {
     "name": "stdout",
     "output_type": "stream",
     "text": [
      "Средняя температура в странах: \n",
      " Thailand  -  39.09523809523809 C \n",
      " Germany  -  28.022222222222222 C \n",
      " Russia  -  18.952380952380956 C \n",
      " Poland  -  26.814814814814813 C\n"
     ]
    }
   ],
   "source": [
    "countries_temperature = [\n",
    "['Thailand', [75.2, 77, 78.8, 73.4, 68, 75.2, 77]],\n",
    "['Germany', [57.2, 55.4, 59, 59, 53.6]],\n",
    "['Russia', [35.6, 37.4, 39.2, 41, 42.8, 39.2, 35.6]],\n",
    "['Poland', [50, 50, 53.6, 57.2, 55.4, 55.4]]\n",
    "]\n",
    "\n",
    "(countries_temperature[0][0]), len(countries_temperature[0][1])\n",
    "(countries_temperature[1][0]), len(countries_temperature[1][1])\n",
    "(countries_temperature[2][0]), len(countries_temperature[2][1])\n",
    "(countries_temperature[3][0]), len(countries_temperature[3][1])\n",
    "\n",
    "t_one, t_two, t_hree, t_four, t_five, t_six, t_seven = [75.2, 77, 78.8, 73.4, 68, 75.2, 77]\n",
    "t_sum_f = t_one + t_two + t_hree + t_four + t_five + t_six + t_seven\n",
    "t_sum_c = 5/9*(t_sum_f-32)\n",
    "t_center = t_sum_c/len(countries_temperature[0][1])\n",
    "\n",
    "g_one, g_two, g_hree, g_four, g_five = [57.2, 55.4, 59, 59, 53.6]\n",
    "g_sum_f = g_one + g_two + g_hree + g_four + g_five\n",
    "g_sum_c = 5/9*(g_sum_f-32)\n",
    "g_center = g_sum_c/len(countries_temperature[1][1])\n",
    "\n",
    "r_one, r_two, r_hree, r_four, r_five, r_six, r_seven = [35.6, 37.4, 39.2, 41, 42.8, 39.2, 35.6]\n",
    "r_sum_f = r_one + r_two + r_hree + r_four + r_five + r_six + r_seven\n",
    "r_sum_c = 5/9*(r_sum_f-32)\n",
    "r_center = r_sum_c/len(countries_temperature[2][1])\n",
    "\n",
    "p_one, p_two, p_hree, p_four, p_five, p_six = [50, 50, 53.6, 57.2, 55.4, 55.4]\n",
    "p_sum_f = p_one + p_two + p_hree + p_four + p_five + p_six\n",
    "p_sum_c = 5/9*(p_sum_f-32)\n",
    "p_center = p_sum_c/len(countries_temperature[3][1])\n",
    "\n",
    "\n",
    "print('Средняя температура в странах:', '\\n', countries_temperature[0][0], ' - ', t_center, 'C', '\\n', countries_temperature[1][0], ' - ', g_center, 'C', '\\n', countries_temperature[2][0], ' - ', r_center, 'C', '\\n', countries_temperature[3][0], ' - ', p_center, 'C')"
   ]
  },
  {
   "cell_type": "code",
   "execution_count": null,
   "metadata": {},
   "outputs": [],
   "source": []
  }
 ],
 "metadata": {
  "kernelspec": {
   "display_name": "Python 3",
   "language": "python",
   "name": "python3"
  },
  "language_info": {
   "codemirror_mode": {
    "name": "ipython",
    "version": 3
   },
   "file_extension": ".py",
   "mimetype": "text/x-python",
   "name": "python",
   "nbconvert_exporter": "python",
   "pygments_lexer": "ipython3",
   "version": "3.8.5"
  }
 },
 "nbformat": 4,
 "nbformat_minor": 4
}
