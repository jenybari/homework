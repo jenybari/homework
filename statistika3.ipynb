{
 "cells": [
  {
   "cell_type": "code",
   "execution_count": 1,
   "metadata": {},
   "outputs": [],
   "source": [
    "import numpy as np"
   ]
  },
  {
   "cell_type": "code",
   "execution_count": 2,
   "metadata": {},
   "outputs": [],
   "source": [
    "winnings = {\n",
    "    777: 200,\n",
    "    999: 100,\n",
    "    555: 50,\n",
    "    333: 15,\n",
    "    111: 10\n",
    "}"
   ]
  },
  {
   "cell_type": "code",
   "execution_count": 3,
   "metadata": {},
   "outputs": [
    {
     "name": "stdout",
     "output_type": "stream",
     "text": [
      "0.80279\n"
     ]
    }
   ],
   "source": [
    "trials = 1000000\n",
    "price = 1\n",
    "prize = 0\n",
    "costs = price * trials\n",
    "\n",
    "for i in range(trials):\n",
    "    ran_score = np.random.randint(0, 1000)\n",
    "    if ran_score in winnings:\n",
    "        prize += winnings[ran_score]\n",
    "    elif ran_score % 100 == 77:\n",
    "        prize += 5\n",
    "    elif ran_score % 100 == 0:\n",
    "        prize += 2\n",
    "    elif ran_score % 10 == 7:\n",
    "        prize += 3\n",
    "    elif ran_score % 10 == 0:\n",
    "        prize += 1\n",
    "    \n",
    "gain = prize / costs\n",
    "print(gain)"
   ]
  },
  {
   "cell_type": "code",
   "execution_count": 4,
   "metadata": {},
   "outputs": [],
   "source": [
    "winnings_t = {\n",
    "    777: 200,\n",
    "    999: 100,\n",
    "    555: 50,\n",
    "    333: 15,\n",
    "    111: 10\n",
    "}"
   ]
  },
  {
   "cell_type": "code",
   "execution_count": 5,
   "metadata": {},
   "outputs": [],
   "source": [
    "for i in list(range(77, 1000, 100)):\n",
    "    if i not in winnings_t:\n",
    "        winnings_t[i] = 5"
   ]
  },
  {
   "cell_type": "code",
   "execution_count": 6,
   "metadata": {},
   "outputs": [],
   "source": [
    "for i in list(range(7, 1000, 10)):\n",
    "    if i not in winnings_t:\n",
    "        winnings_t[i] = 3"
   ]
  },
  {
   "cell_type": "code",
   "execution_count": 7,
   "metadata": {},
   "outputs": [],
   "source": [
    "for i in list(range(0, 1000, 100)):\n",
    "    if i not in winnings_t:\n",
    "        winnings_t[i] = 2"
   ]
  },
  {
   "cell_type": "code",
   "execution_count": 8,
   "metadata": {},
   "outputs": [],
   "source": [
    "for i in list(range(0, 1000, 10)):\n",
    "    if i not in winnings_t:\n",
    "        winnings_t[i] = 1"
   ]
  },
  {
   "cell_type": "code",
   "execution_count": 9,
   "metadata": {},
   "outputs": [
    {
     "data": {
      "text/plain": [
       "0.8000000000000004"
      ]
     },
     "execution_count": 9,
     "metadata": {},
     "output_type": "execute_result"
    }
   ],
   "source": [
    "gain_t = 0\n",
    "for i in winnings_t:\n",
    "    gain_t += winnings_t[i] * 1 / 1000\n",
    "gain_t"
   ]
  },
  {
   "cell_type": "code",
   "execution_count": null,
   "metadata": {},
   "outputs": [],
   "source": [
    "#В среднем за одну игру игрок получает 80 копеек.\n",
    "#Игра не выгодна для игрока"
   ]
  }
 ],
 "metadata": {
  "kernelspec": {
   "display_name": "Python 3",
   "language": "python",
   "name": "python3"
  },
  "language_info": {
   "codemirror_mode": {
    "name": "ipython",
    "version": 3
   },
   "file_extension": ".py",
   "mimetype": "text/x-python",
   "name": "python",
   "nbconvert_exporter": "python",
   "pygments_lexer": "ipython3",
   "version": "3.8.5"
  }
 },
 "nbformat": 4,
 "nbformat_minor": 4
}
