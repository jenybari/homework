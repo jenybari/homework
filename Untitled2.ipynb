{
 "cells": [
  {
   "cell_type": "code",
   "execution_count": 5,
   "metadata": {},
   "outputs": [
    {
     "name": "stdout",
     "output_type": "stream",
     "text": [
      "es\n"
     ]
    }
   ],
   "source": [
    "word = 'test'\n",
    "sum = len(word)\n",
    "ctr = sum / 2\n",
    "if sum % 2 == 0:\n",
    "    print(word[int(ctr)-1:int(ctr)+1])\n",
    "elif sum % 2 !=0:\n",
    "    print(word[int(ctr)])\n",
    "\n",
    "#word = ‘testing’"
   ]
  },
  {
   "cell_type": "code",
   "execution_count": 6,
   "metadata": {},
   "outputs": [
    {
     "name": "stdout",
     "output_type": "stream",
     "text": [
      "t\n"
     ]
    }
   ],
   "source": [
    "word = 'testing'\n",
    "sum = len(word)\n",
    "ctr = sum / 2\n",
    "if sum % 2 == 0:\n",
    "    print(word[int(ctr)-1:int(ctr)+1])\n",
    "elif sum % 2 !=0:\n",
    "    print(word[int(ctr)])"
   ]
  },
  {
   "cell_type": "code",
   "execution_count": 20,
   "metadata": {},
   "outputs": [
    {
     "name": "stdout",
     "output_type": "stream",
     "text": [
      "Введите число: 10\n",
      "Введите число: 20\n",
      "Введите число: 30\n",
      "Введите число: 0\n",
      "Ввод остановлен. Результат:  60\n"
     ]
    }
   ],
   "source": [
    "x = int(input('Введите число: '))\n",
    "sum = 0\n",
    "while x != 0:\n",
    "    sum += x\n",
    "    x = int(input('Введите число: '))\n",
    "print('Ввод остановлен. Результат: ', sum)"
   ]
  },
  {
   "cell_type": "code",
   "execution_count": 98,
   "metadata": {},
   "outputs": [
    {
     "name": "stdout",
     "output_type": "stream",
     "text": [
      "Идеальные пары \n",
      " [('Alex', 'Emma'), ('Arthur', 'Kate'), ('John', 'Kira'), ('Peter', 'Liza'), ('Richard', 'Trisha')]\n"
     ]
    }
   ],
   "source": [
    "boys = ['Peter', 'Alex', 'John', 'Arthur', 'Richard']\n",
    "girls = ['Kate', 'Liza', 'Kira', 'Emma', 'Trisha']\n",
    "len(boys)\n",
    "len(girls)\n",
    "sorted(boys)\n",
    "sorted(girls)\n",
    "if len(girls) == len(boys):\n",
    "    couple = zip(sorted(boys), sorted(girls))\n",
    "    print('Идеальные пары', '\\n' , list(couple))\n",
    "else:\n",
    "    print('Внимание, кто-то может остаться без пары!')"
   ]
  },
  {
   "cell_type": "code",
   "execution_count": 97,
   "metadata": {},
   "outputs": [
    {
     "name": "stdout",
     "output_type": "stream",
     "text": [
      "Внимание, кто-то может остаться без пары!\n"
     ]
    }
   ],
   "source": [
    "boys = ['Peter', 'Alex', 'John', 'Arthur', 'Richard','Michael']\n",
    "girls = ['Kate', 'Liza', 'Kira', 'Emma', 'Trisha']\n",
    "len(boys)\n",
    "len(girls)\n",
    "sorted(boys)\n",
    "sorted(girls)\n",
    "if len(girls) == len(boys):\n",
    "    couple = zip(sorted(boys), sorted(girls))\n",
    "    print('Идеальные пары', list(couple))\n",
    "else:\n",
    "    print('Внимание, кто-то может остаться без пары!')"
   ]
  },
  {
   "cell_type": "code",
   "execution_count": null,
   "metadata": {},
   "outputs": [],
   "source": []
  }
 ],
 "metadata": {
  "kernelspec": {
   "display_name": "Python 3",
   "language": "python",
   "name": "python3"
  },
  "language_info": {
   "codemirror_mode": {
    "name": "ipython",
    "version": 3
   },
   "file_extension": ".py",
   "mimetype": "text/x-python",
   "name": "python",
   "nbconvert_exporter": "python",
   "pygments_lexer": "ipython3",
   "version": "3.8.5"
  }
 },
 "nbformat": 4,
 "nbformat_minor": 4
}
