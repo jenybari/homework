{
 "cells": [
  {
   "cell_type": "code",
   "execution_count": 4,
   "metadata": {},
   "outputs": [
    {
     "ename": "SyntaxError",
     "evalue": "invalid syntax (<ipython-input-4-a4f54cecdb88>, line 2)",
     "output_type": "error",
     "traceback": [
      "\u001b[1;36m  File \u001b[1;32m\"<ipython-input-4-a4f54cecdb88>\"\u001b[1;36m, line \u001b[1;32m2\u001b[0m\n\u001b[1;33m    datetime.strtime(Wenesday, October 2, 2002,\u001b[0m\n\u001b[1;37m                                       ^\u001b[0m\n\u001b[1;31mSyntaxError\u001b[0m\u001b[1;31m:\u001b[0m invalid syntax\n"
     ]
    }
   ],
   "source": [
    "from datetime import datetime"
   ]
  },
  {
   "cell_type": "code",
   "execution_count": 6,
   "metadata": {},
   "outputs": [
    {
     "name": "stdout",
     "output_type": "stream",
     "text": [
      "2002-10-02 00:00:00 , 2013-10-11 00:00:00 , 1977-08-18 00:00:00\n"
     ]
    }
   ],
   "source": [
    "MoscowTimes_date = 'Wednesday, October 2, 2002'\n",
    "Guardian_date = 'Friday, 11.10.13'\n",
    "DailyNews_date = 'Thursday, 18 August 1977'\n",
    "\n",
    "MoscowTimes_datetime = datetime.strptime(MoscowTimes_date, '%A, %B %d, %Y')\n",
    "Guardian_datetime = datetime.strptime(Guardian_date, '%A, %d.%m.%y')\n",
    "DailyNews_datetime = datetime.strptime(DailyNews_date, '%A, %d %B %Y')\n",
    "\n",
    "print(MoscowTimes_datetime,',', Guardian_datetime,',', DailyNews_datetime)"
   ]
  },
  {
   "cell_type": "code",
   "execution_count": 6,
   "metadata": {},
   "outputs": [
    {
     "name": "stdout",
     "output_type": "stream",
     "text": [
      "2018-04-02 True\n",
      "2018-02-29 False\n",
      "2018-19-02 False\n"
     ]
    }
   ],
   "source": [
    "from datetime import datetime\n",
    "stream = ['2018-04-02', '2018-02-29', '2018-19-02']\n",
    "for item in stream:\n",
    "    try:\n",
    "        item_dt = datetime.strptime(item, '%Y-%m-%d')\n",
    "        print(item, 'True')\n",
    "    except:\n",
    "        print(item, 'False')"
   ]
  },
  {
   "cell_type": "code",
   "execution_count": 1,
   "metadata": {},
   "outputs": [
    {
     "name": "stdout",
     "output_type": "stream",
     "text": [
      "Ввеедите дату начала мероприятия в формате YYYY-MM-DD: 2020-01-02\n",
      "Ввеедите дату окончания мероприятия в формате YYYY-MM-DD: 2020-01-22\n",
      "2020-01-02\n",
      "2020-01-03\n",
      "2020-01-04\n",
      "2020-01-05\n",
      "2020-01-06\n",
      "2020-01-07\n",
      "2020-01-08\n",
      "2020-01-09\n",
      "2020-01-10\n",
      "2020-01-11\n",
      "2020-01-12\n",
      "2020-01-13\n",
      "2020-01-14\n",
      "2020-01-15\n",
      "2020-01-16\n",
      "2020-01-17\n",
      "2020-01-18\n",
      "2020-01-19\n",
      "2020-01-20\n",
      "2020-01-21\n",
      "2020-01-22\n"
     ]
    }
   ],
   "source": [
    "from datetime import datetime\n",
    "from datetime import timedelta\n",
    "\n",
    "def date_range(start_date, end_date):\n",
    "    try:\n",
    "        start_date_dt = datetime.strptime(start_date, '%Y-%m-%d')\n",
    "        end_date_dt = datetime.strptime(end_date, '%Y-%m-%d')\n",
    "        if end_date_dt >= start_date_dt:\n",
    "            x_dt = start_date_dt\n",
    "            while x_dt <= end_date_dt:\n",
    "                print(x_dt.strftime('%Y-%m-%d'))\n",
    "                x_dt += timedelta(days=1)\n",
    "        else:\n",
    "            print('Ошибка: дата окончания мероприятия раньше даты начала мероприятия')\n",
    "    except:\n",
    "        print('Некорректный формат')\n",
    "        \n",
    "start_date  = input('Ввеедите дату начала мероприятия в формате YYYY-MM-DD: ')\n",
    "end_date = input('Ввеедите дату окончания мероприятия в формате YYYY-MM-DD: ')\n",
    "date_range(start_date, end_date)"
   ]
  },
  {
   "cell_type": "code",
   "execution_count": null,
   "metadata": {},
   "outputs": [],
   "source": []
  }
 ],
 "metadata": {
  "kernelspec": {
   "display_name": "Python 3",
   "language": "python",
   "name": "python3"
  },
  "language_info": {
   "codemirror_mode": {
    "name": "ipython",
    "version": 3
   },
   "file_extension": ".py",
   "mimetype": "text/x-python",
   "name": "python",
   "nbconvert_exporter": "python",
   "pygments_lexer": "ipython3",
   "version": "3.8.5"
  }
 },
 "nbformat": 4,
 "nbformat_minor": 4
}
