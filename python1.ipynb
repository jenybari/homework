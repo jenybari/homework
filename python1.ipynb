{
 "cells": [
  {
   "cell_type": "code",
   "execution_count": 11,
   "metadata": {},
   "outputs": [
    {
     "name": "stdout",
     "output_type": "stream",
     "text": [
      "Фраза 1 длинее фразы 2\n"
     ]
    }
   ],
   "source": [
    "phrase_1 = 'Насколько проще было бы писать программы, если бы не заказчики'\n",
    "phrase_2 = '640Кб должно хватить для любых задач. Билл Гейтс (по легенде)'\n",
    "if len(phrase_1) > len(phrase_2):\n",
    "    print('Фраза 1 длинее фразы 2')\n",
    "elif len(phrase_1) < len(phrase_2):\n",
    "    print('Фраза 2 длиннее фразы 1')\n",
    "elif len(phrase_1)== len(phrase_2):\n",
    "    print('Фразы равной длины')"
   ]
  },
  {
   "cell_type": "code",
   "execution_count": 9,
   "metadata": {},
   "outputs": [
    {
     "name": "stdout",
     "output_type": "stream",
     "text": [
      "Фраза 2 длиннее фразы 1\n"
     ]
    }
   ],
   "source": [
    "phrase_1 = '640Кб должно хватить для любых задач. Билл Гейтс (по легенде)'\n",
    "phrase_2 = 'Насколько проще было бы писать программы, если бы не заказчики'\n",
    "if len(phrase_1) > len(phrase_2):\n",
    "    print('Фраза 1 длиннее фразы 2')\n",
    "elif len(phrase_1)< len(phrase_2):\n",
    "    print('Фраза 2 длиннее фразы 1')\n",
    "elif len(phrase_1) == len(phrase_2):\n",
    "    print('Фразы равной длины')\n"
   ]
  },
  {
   "cell_type": "code",
   "execution_count": 13,
   "metadata": {},
   "outputs": [
    {
     "name": "stdout",
     "output_type": "stream",
     "text": [
      "Фразы равной длины\n"
     ]
    }
   ],
   "source": [
    "phrase_1 = 'Насколько проще было бы писать программы, если бы не заказчики'\n",
    "phrase_2 = 'Насколько проще было бы писать программы, если бы не заказчики'\n",
    "if len(phrase_1) > len(phrase_2):\n",
    "    print('Фраза 1 длиннее фразы 2')\n",
    "elif len(phrase_1)< len(phrase_2):\n",
    "    print('Фраза 2 длиннее фразы 1')\n",
    "elif len(phrase_1) == len(phrase_2):\n",
    "    print('Фразы равной длины')\n"
   ]
  },
  {
   "cell_type": "code",
   "execution_count": 17,
   "metadata": {},
   "outputs": [
    {
     "name": "stdout",
     "output_type": "stream",
     "text": [
      "Введите год 2021\n",
      "Обычный год\n"
     ]
    }
   ],
   "source": [
    "x = int(input('Введите год '))\n",
    "if x%4==0:\n",
    "    print('Високосный год')\n",
    "else:\n",
    "    print('Обычный год')\n"
   ]
  },
  {
   "cell_type": "code",
   "execution_count": 47,
   "metadata": {},
   "outputs": [
    {
     "name": "stdout",
     "output_type": "stream",
     "text": [
      "Введите день: 30\n",
      "Введите месяц: 8\n",
      "Ваш знак зодиака = Дева\n"
     ]
    }
   ],
   "source": [
    "a = int(input('Введите день: '))\n",
    "b = int(input('Введите месяц: '))\n",
    "if 31>=a>=22 and b==12 or 20>=a>=1 and b==1:\n",
    "    print('Ваш знак зодиака = Козерог')\n",
    "elif 31>=a>=21 and b==1 or 18>=a>=1 and b==2:\n",
    "        print('Ваш знак зодиака = Водолей')\n",
    "\n",
    "elif 29>=a>=19 and b==3 or 20>=a>=1 and b==3:\n",
    "        print('Ваш знак зодиака = Рыбы')\n",
    "\n",
    "elif 31>=a>=21 and b==3 or 19>=a>=1 and b==4:\n",
    "        print('Ваш знак зодиака = Овен')\n",
    "\n",
    "elif 30>=a>=20 and b==4 or 20>=a>=1 and b==5:\n",
    "        print('Ваш знак зодиака = Телец')\n",
    "\n",
    "elif 31>=a>=20 and b==5 or 21>=a>=1 and b==6:\n",
    "    print('Ваш знак зодиака = Близнецы')\n",
    "    \n",
    "elif 30>=a>=22 and b==6 or 22>=a>=1 and b==7:\n",
    "    print('Ваш знак зодиака = Рак')\n",
    "    \n",
    "elif 31>=a>=23 and b==7 or 22>=a>=1 and b==8:\n",
    "    print('Ваш знак зодиака = Лев')\n",
    "    \n",
    "elif 31>=a>=23 and b==8 or 22>=a>=1 and b==9:\n",
    "    print('Ваш знак зодиака = Дева')\n",
    "    \n",
    "elif 30>=a>=23 and b==9 or 23>=a>=1 and b==10:\n",
    "    print('Ваш знак зодиака = Весы')\n",
    "    \n",
    "elif 31>=a>=24 and b==10 or 22>=a>=1 and b==11:\n",
    "    ('Ваш знак зодиака = Скорпион')\n",
    "    \n",
    "elif 30>=a>=23 and b==11 or 23>=a>=1 and b==12:\n",
    "    print('Ваш знак зодиака = Стрелец')\n",
    "\n"
   ]
  },
  {
   "cell_type": "code",
   "execution_count": 56,
   "metadata": {},
   "outputs": [
    {
     "name": "stdout",
     "output_type": "stream",
     "text": [
      "Ширина: 45\n",
      "Длина: 205\n",
      "Высота: 45\n",
      "Упаковка для лыж\n"
     ]
    }
   ],
   "source": [
    "x = int(input('Ширина: '))\n",
    "y = int(input('Длина: '))\n",
    "z = int(input('Высота: '))\n",
    "\n",
    "if x<=15 and y<=15 and z<=15:\n",
    "    print('Коробка №1')\n",
    "\n",
    "elif y>200:\n",
    "    print('Упаковка для лыж')\n",
    "\n",
    "elif 50>x>15 or 50>y>15 or 50>z>15:\n",
    "    print('Коробка №2')\n",
    "\n",
    "else: print('Стандартная коробка №3')"
   ]
  },
  {
   "cell_type": "code",
   "execution_count": 104,
   "metadata": {},
   "outputs": [
    {
     "name": "stdout",
     "output_type": "stream",
     "text": [
      "Номер билета: 123456\n",
      "Несчастливый билет\n"
     ]
    }
   ],
   "source": [
    "number = str(input('Номер билета: '))\n",
    "if (sum(map(int, list(number[0:3])))) == (sum(map(int,list(number[3:6])))):\n",
    "    print('Счастливый билет')\n",
    "else:\n",
    "    print('Несчастливый билет')"
   ]
  },
  {
   "cell_type": "code",
   "execution_count": null,
   "metadata": {},
   "outputs": [],
   "source": []
  }
 ],
 "metadata": {
  "kernelspec": {
   "display_name": "Python 3",
   "language": "python",
   "name": "python3"
  },
  "language_info": {
   "codemirror_mode": {
    "name": "ipython",
    "version": 3
   },
   "file_extension": ".py",
   "mimetype": "text/x-python",
   "name": "python",
   "nbconvert_exporter": "python",
   "pygments_lexer": "ipython3",
   "version": "3.8.5"
  }
 },
 "nbformat": 4,
 "nbformat_minor": 4
}
