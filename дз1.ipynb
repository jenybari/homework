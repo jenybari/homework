{
 "cells": [
  {
   "cell_type": "code",
   "execution_count": 5,
   "metadata": {},
   "outputs": [
    {
     "name": "stdout",
     "output_type": "stream",
     "text": [
      "True\n"
     ]
    }
   ],
   "source": [
    "phrase_1 = 'Насколько проще было бы писать программы, если бы не заказчики'\n",
    "phrase_2 = '640Кб должно хватить для любых задач. Билл Гейтс (по легенде)'\n",
    "if len(phrase_1) > len(phrase_2):\n",
    "    print('True')\n",
    "else:\n",
    "    print('False')"
   ]
  },
  {
   "cell_type": "code",
   "execution_count": 6,
   "metadata": {},
   "outputs": [
    {
     "name": "stdout",
     "output_type": "stream",
     "text": [
      "False\n"
     ]
    }
   ],
   "source": [
    "phrase_1 = '640Кб должно хватить для любых задач. Билл Гейтс (по легенде)'\n",
    "phrase_2 = 'Насколько проще было бы писать программы, если бы не заказчики'\n",
    "if len(phrase_1) > len(phrase_2):\n",
    "    print('True')\n",
    "else:\n",
    "    print('False')"
   ]
  },
  {
   "cell_type": "code",
   "execution_count": 44,
   "metadata": {},
   "outputs": [
    {
     "name": "stdout",
     "output_type": "stream",
     "text": [
      "2020 - Високосный год\n"
     ]
    }
   ],
   "source": [
    "year = 2020\n",
    "if year % 4 == 0 and year % 100 != 0 or year % 400 == 0:\n",
    "    print (year, '- Високосный год')\n",
    "else:\n",
    "    print (year, ' - Обычный год')"
   ]
  },
  {
   "cell_type": "code",
   "execution_count": 47,
   "metadata": {
    "scrolled": true
   },
   "outputs": [
    {
     "name": "stdout",
     "output_type": "stream",
     "text": [
      "2019  - Обычный год\n"
     ]
    }
   ],
   "source": [
    "year = 2019\n",
    "if year % 4 == 0 and year % 100 != 0 or year % 400 == 0:\n",
    "    print (year, '- Високосный год')\n",
    "else:\n",
    "    print (year, ' - Обычный год')"
   ]
  },
  {
   "cell_type": "code",
   "execution_count": 3,
   "metadata": {},
   "outputs": [
    {
     "name": "stdout",
     "output_type": "stream",
     "text": [
      "Введите день рождения 23\n",
      "Введите месяц рождения 10\n",
      "Ваш знак зодиака - Весы\n"
     ]
    }
   ],
   "source": [
    "date = int(input('Введите день рождения '))\n",
    "month = int(input('Введите месяц рождения '))\n",
    "if (date >= 21 and date <= 31 and month == 3) or (date >= 1 and date <= 20 and month == 4):\n",
    "    print('Ваш знак зодиака - Овен')\n",
    "elif (date >= 21 and date <= 30 and month == 4) or (date >= 1 and date <= 21 and month == 5):\n",
    "    print ('Ваш знак зодиака - Телец')\n",
    "elif (date >= 22 and date <= 31 and month == 5) or (date >= 1 and date <= 21 and month == 6):\n",
    "    print ('Ваш знак зодиака - Близнецы')\n",
    "elif (date >= 22 and date <= 30 and month == 6) or (date >= 1 and date <= 22 and month == 7):\n",
    "    print ('Ваш знак зодиака - Рак')\n",
    "elif (date >= 23 and date <= 31 and month == 7) or (date >= 1 and date <= 21 and month == 8):\n",
    "    print ('Ваш знак зодиака - Лев')\n",
    "elif (date >= 22 and date <= 31 and month == 8) or (date >= 1 and date <= 23 and month == 9):\n",
    "    print ('Ваш знак зодиака - Дева')\n",
    "elif (date >= 24 and date <= 30 and month == 9) or (date >= 1 and date <= 23 and month == 10):\n",
    "    print ('Ваш знак зодиака - Весы')\n",
    "elif (date >= 24 and date <= 31 and month == 10) or (date >= 1 and date <= 22 and month == 11):\n",
    "    print ('Ваш знак зодиака - Скорпион')\n",
    "elif (date >= 23 and date <= 30 and month == 11) or (date >= 1 and date <= 21 and month == 12):\n",
    "    print ('Ваш знак зодиака - Стрелец')\n",
    "elif (date >= 21 and date <= 31 and month == 12) or (date >= 1 and date <= 20 and month == 1):\n",
    "    print ('Ваш знак зодиака - Козерог')\n",
    "elif (date >= 21 and date <= 31 and month == 1) or (date >= 1 and date <= 18 and month == 2):\n",
    "    print ('Ваш знак зодиака - Водолей')\n",
    "elif (date >= 19 and date <= 29 and month == 2) or (date >= 1 and date <= 20 and month == 3):\n",
    "    print ('Ваш знак зодиака - Рыбы')\n",
    "else:\n",
    "    print ('Неверная дата рождения')"
   ]
  },
  {
   "cell_type": "code",
   "execution_count": null,
   "metadata": {},
   "outputs": [],
   "source": []
  },
  {
   "cell_type": "code",
   "execution_count": 7,
   "metadata": {},
   "outputs": [
    {
     "name": "stdout",
     "output_type": "stream",
     "text": [
      "Ширина  45\n",
      "Длина 205\n",
      "Высота 45\n",
      "Упаковка для лыж\n"
     ]
    }
   ],
   "source": [
    "width = 45\n",
    "length = 205\n",
    "height = 45\n",
    "width = int(input('Ширина  '))\n",
    "length = int(input('Длина '))\n",
    "height = int(input('Высота '))\n",
    "if width < 15 and length < 15 and height < 15:\n",
    "    print ('Коробка №1')\n",
    "elif 15 > width < 50 or 15 > length < 50 or 15 > height < 50:\n",
    "    print ('Коробка №2')\n",
    "elif length > 200:\n",
    "    print('Упаковка для лыж')\n",
    "else:\n",
    "    print('Стандартная коробка №3')\n",
    "        \n"
   ]
  },
  {
   "cell_type": "code",
   "execution_count": null,
   "metadata": {},
   "outputs": [],
   "source": []
  },
  {
   "cell_type": "code",
   "execution_count": null,
   "metadata": {},
   "outputs": [],
   "source": []
  }
 ],
 "metadata": {
  "kernelspec": {
   "display_name": "Python 3",
   "language": "python",
   "name": "python3"
  },
  "language_info": {
   "codemirror_mode": {
    "name": "ipython",
    "version": 3
   },
   "file_extension": ".py",
   "mimetype": "text/x-python",
   "name": "python",
   "nbconvert_exporter": "python",
   "pygments_lexer": "ipython3",
   "version": "3.8.5"
  }
 },
 "nbformat": 4,
 "nbformat_minor": 4
}
